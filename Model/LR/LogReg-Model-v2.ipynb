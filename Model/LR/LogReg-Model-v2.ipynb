{
 "cells": [
  {
   "cell_type": "code",
   "execution_count": null,
   "id": "ea831a81",
   "metadata": {},
   "outputs": [
    {
     "name": "stderr",
     "output_type": "stream",
     "text": [
      "2025-05-09 20:16:26.307827: I tensorflow/core/util/port.cc:153] oneDNN custom operations are on. You may see slightly different numerical results due to floating-point round-off errors from different computation orders. To turn them off, set the environment variable `TF_ENABLE_ONEDNN_OPTS=0`.\n",
      "2025-05-09 20:16:26.316035: E external/local_xla/xla/stream_executor/cuda/cuda_fft.cc:477] Unable to register cuFFT factory: Attempting to register factory for plugin cuFFT when one has already been registered\n",
      "WARNING: All log messages before absl::InitializeLog() is called are written to STDERR\n",
      "E0000 00:00:1746839786.326178  337363 cuda_dnn.cc:8310] Unable to register cuDNN factory: Attempting to register factory for plugin cuDNN when one has already been registered\n",
      "E0000 00:00:1746839786.329308  337363 cuda_blas.cc:1418] Unable to register cuBLAS factory: Attempting to register factory for plugin cuBLAS when one has already been registered\n",
      "2025-05-09 20:16:26.339713: I tensorflow/core/platform/cpu_feature_guard.cc:210] This TensorFlow binary is optimized to use available CPU instructions in performance-critical operations.\n",
      "To enable the following instructions: SSE4.1 SSE4.2 AVX AVX2 AVX512F AVX512_VNNI AVX512_BF16 FMA, in other operations, rebuild TensorFlow with the appropriate compiler flags.\n"
     ]
    }
   ],
   "source": [
    "\n",
    "import random\n",
    "import numpy as np\n",
    "import tensorflow as tf\n",
    "\n",
    "random.seed(42)\n",
    "np.random.seed(42)\n",
    "tf.random.set_seed(42)"
   ]
  },
  {
   "cell_type": "code",
   "execution_count": null,
   "id": "a9c14fb1",
   "metadata": {},
   "outputs": [],
   "source": [
    "\n",
    "CONFIG = {\n",
    "    \"data_path\": \"data/emnist_balanced.npz\",\n",
    "    \"mapping_file\": \"emnist-balanced-mapping.txt\",\n",
    "    \"model_checkpoint\": \"savedModels/CNN-Model.keras\",\n",
    "    \"batch_size\": 64,\n",
    "    \"epochs\": 20,\n",
    "    \"input_shape\": (28, 28, 1),\n",
    "    \"num_classes\": 47,\n",
    "    \"test_path\": \"path/to/your/image.png\",  \n",
    "}\n",
    "NUM_CLASSES = 47\n"
   ]
  },
  {
   "cell_type": "markdown",
   "id": "5c0c55d0",
   "metadata": {},
   "source": [
    "# CNN Training Notebook\n",
    "This notebook trains the EMNIST Balanced model with a deeper architecture, no augmentation to ensure proper learning, and robust callbacks."
   ]
  },
  {
   "cell_type": "code",
   "execution_count": null,
   "id": "15804595",
   "metadata": {},
   "outputs": [],
   "source": [
    "import numpy as np\n",
    "import random\n",
    "from sklearn.model_selection import train_test_split, StratifiedShuffleSplit\n",
    "from tensorflow.keras import layers, models, optimizers, callbacks\n",
    "\n",
    "\n",
    "seed = 42\n",
    "np.random.seed(seed)\n",
    "random.seed(seed)\n",
    "tf.random.set_seed(seed)\n",
    "\n",
    "tf.config.experimental.enable_op_determinism()\n"
   ]
  },
  {
   "cell_type": "code",
   "execution_count": null,
   "id": "79d6ed58",
   "metadata": {},
   "outputs": [
    {
     "name": "stdout",
     "output_type": "stream",
     "text": [
      "Data shapes before split: (112800, 28, 28, 1), (112800,)\n"
     ]
    }
   ],
   "source": [
    "\n",
    "data = np.load('data/emnist_balanced.npz')\n",
    "x = data['x']\n",
    "y = data['y']\n",
    "\n",
    "\n",
    "x = np.transpose(x, (0, 2, 1))\n",
    "x = np.flip(x, axis=2)\n",
    "\n",
    "\n",
    "x = x.astype('float32') / 255.0\n",
    "x = x[..., np.newaxis]\n",
    "\n",
    "print(f\"Data shapes before split: {x.shape}, {y.shape}\")\n"
   ]
  },
  {
   "cell_type": "code",
   "execution_count": null,
   "id": "982b740b",
   "metadata": {},
   "outputs": [
    {
     "name": "stdout",
     "output_type": "stream",
     "text": [
      "Train: (91368, 28, 28, 1), Val: (10152, 28, 28, 1), Test: (11280, 28, 28, 1)\n"
     ]
    }
   ],
   "source": [
    "\n",
    "from sklearn.model_selection import StratifiedShuffleSplit\n",
    "\n",
    "sss = StratifiedShuffleSplit(n_splits=1, test_size=0.10, random_state=seed)\n",
    "train_idx, test_idx = next(sss.split(x, y))\n",
    "x_train_full, x_test = x[train_idx], x[test_idx]\n",
    "y_train_full, y_test = y[train_idx], y[test_idx]\n",
    "\n",
    "sss2 = StratifiedShuffleSplit(n_splits=1, test_size=0.10, random_state=seed)\n",
    "train_idx, val_idx = next(sss2.split(x_train_full, y_train_full))\n",
    "x_train, x_val = x_train_full[train_idx], x_train_full[val_idx]\n",
    "y_train, y_val = y_train_full[train_idx], y_train_full[val_idx]\n",
    "\n",
    "print(f\"Train: {x_train.shape}, Val: {x_val.shape}, Test: {x_test.shape}\")\n"
   ]
  },
  {
   "cell_type": "markdown",
   "id": "5eefa240",
   "metadata": {},
   "source": [
    "# Logistic Regression Baseline\n",
    "This section trains a simple multinomial Logistic Regression model to serve as a lightweight, interpretable baseline."
   ]
  },
  {
   "cell_type": "code",
   "execution_count": null,
   "id": "e0b25905",
   "metadata": {},
   "outputs": [
    {
     "name": "stderr",
     "output_type": "stream",
     "text": [
      "/home/karan/miniconda3/envs/web-backend/lib/python3.10/site-packages/sklearn/linear_model/_logistic.py:1247: FutureWarning: 'multi_class' was deprecated in version 1.5 and will be removed in 1.7. From then on, it will always use 'multinomial'. Leave it to its default value to avoid this warning.\n",
      "  warnings.warn(\n",
      "[Parallel(n_jobs=-1)]: Using backend ThreadingBackend with 16 concurrent workers.\n"
     ]
    },
    {
     "name": "stdout",
     "output_type": "stream",
     "text": [
      "convergence after 20 epochs took 208 seconds\n",
      "Validation accuracy: 0.4874901497241923\n",
      "Test accuracy: 0.4767730496453901\n",
      "              precision    recall  f1-score   support\n",
      "\n",
      "           0      0.349     0.458     0.396       240\n",
      "           1      0.175     0.600     0.271       240\n",
      "           2      0.686     0.438     0.534       240\n",
      "           3      0.438     0.858     0.580       240\n",
      "           4      0.596     0.388     0.470       240\n",
      "           5      0.833     0.229     0.359       240\n",
      "           6      0.614     0.629     0.621       240\n",
      "           7      0.547     0.846     0.664       240\n",
      "           8      0.635     0.450     0.527       240\n",
      "           9      0.376     0.683     0.485       240\n",
      "          10      0.464     0.463     0.463       240\n",
      "          11      0.620     0.429     0.507       240\n",
      "          12      0.564     0.554     0.559       240\n",
      "          13      0.714     0.312     0.435       240\n",
      "          14      0.659     0.379     0.481       240\n",
      "          15      0.472     0.142     0.218       240\n",
      "          16      0.568     0.575     0.571       240\n",
      "          17      0.535     0.354     0.426       240\n",
      "          18      0.179     0.375     0.242       240\n",
      "          19      0.565     0.308     0.399       240\n",
      "          20      0.679     0.300     0.416       240\n",
      "          21      0.217     0.021     0.038       240\n",
      "          22      0.446     0.921     0.601       240\n",
      "          23      0.411     0.575     0.479       240\n",
      "          24      0.334     0.633     0.437       240\n",
      "          25      0.548     0.575     0.561       240\n",
      "          26      0.663     0.450     0.536       240\n",
      "          27      0.779     0.250     0.379       240\n",
      "          28      0.663     0.475     0.553       240\n",
      "          29      0.482     0.600     0.534       240\n",
      "          30      0.544     0.463     0.500       240\n",
      "          31      0.483     0.575     0.525       240\n",
      "          32      0.423     0.875     0.570       240\n",
      "          33      0.586     0.654     0.618       240\n",
      "          34      0.561     0.192     0.286       240\n",
      "          35      0.695     0.371     0.484       240\n",
      "          36      0.531     0.287     0.373       240\n",
      "          37      0.563     0.704     0.626       240\n",
      "          38      0.558     0.679     0.613       240\n",
      "          39      0.595     0.667     0.629       240\n",
      "          40      0.555     0.442     0.492       240\n",
      "          41      1.000     0.008     0.017       240\n",
      "          42      0.599     0.567     0.582       240\n",
      "          43      0.562     0.742     0.639       240\n",
      "          44      0.325     0.054     0.093       240\n",
      "          45      0.417     0.758     0.538       240\n",
      "          46      0.706     0.100     0.175       240\n",
      "\n",
      "    accuracy                          0.477     11280\n",
      "   macro avg      0.543     0.477     0.458     11280\n",
      "weighted avg      0.543     0.477     0.458     11280\n",
      "\n"
     ]
    }
   ],
   "source": [
    "\n",
    "from sklearn.linear_model import LogisticRegression\n",
    "from sklearn.metrics import accuracy_score, classification_report, confusion_matrix\n",
    "\n",
    "\n",
    "x_train_lr = x_train.reshape(-1, 28*28)\n",
    "x_val_lr   = x_val.reshape(-1, 28*28)\n",
    "x_test_lr  = x_test.reshape(-1, 28*28)\n",
    "\n",
    "\n",
    "lr = LogisticRegression(\n",
    "        multi_class=\"multinomial\",\n",
    "        solver=\"saga\",\n",
    "        max_iter=1000,\n",
    "        n_jobs=-1,\n",
    "        verbose=1,\n",
    "        random_state=seed)\n",
    "lr.fit(x_train_lr, y_train)\n",
    "\n",
    "\n",
    "y_val_pred = lr.predict(x_val_lr)\n",
    "print(\"Validation accuracy:\", accuracy_score(y_val, y_val_pred))\n",
    "\n",
    "\n",
    "y_test_pred = lr.predict(x_test_lr)\n",
    "print(\"Test accuracy:\", accuracy_score(y_test, y_test_pred))\n",
    "print(classification_report(y_test, y_test_pred, digits=3))\n"
   ]
  },
  {
   "cell_type": "code",
   "execution_count": 7,
   "id": "1af71555",
   "metadata": {},
   "outputs": [
    {
     "data": {
      "image/png": "[encoded data removed]",
      "text/plain": [
       "<Figure size 800x800 with 1 Axes>"
      ]
     },
     "metadata": {},
     "output_type": "display_data"
    }
   ],
   "source": [
    "\n",
    "import matplotlib.pyplot as plt\n",
    "import seaborn as sns\n",
    "\n",
    "cm = confusion_matrix(y_test, y_test_pred)\n",
    "plt.figure(figsize=(8,8))\n",
    "sns.heatmap(cm, cmap=\"Blues\", square=True, cbar=False)\n",
    "plt.title(\"Logistic Regression Confusion Matrix (Test)\")\n",
    "plt.xlabel(\"Predicted label\")\n",
    "plt.ylabel(\"True label\")\n",
    "plt.show()\n"
   ]
  },
  {
   "cell_type": "code",
   "execution_count": null,
   "id": "8ee406f2-5d43-47a7-ac42-a5582291f2f6",
   "metadata": {},
   "outputs": [
    {
     "name": "stdout",
     "output_type": "stream",
     "text": [
      "Model saved to SavedModels/LogReg-Model-v2.joblib\n"
     ]
    }
   ],
   "source": [
    "\n",
    "import joblib\n",
    "from pathlib import Path\n",
    "\n",
    "model_dir = Path(\"SavedModels\")\n",
    "model_dir.mkdir(parents=True, exist_ok=True)\n",
    "\n",
    "joblib.dump(lr, model_dir / \"LogReg-Model-v2.joblib\")\n",
    "print(f\"Model saved to {model_dir / 'LogReg-Model-v2.joblib'}\")\n"
   ]
  },
  {
   "cell_type": "code",
   "execution_count": null,
   "id": "87f5d09d-b8d2-4886-8371-c30e486cbe77",
   "metadata": {},
   "outputs": [],
   "source": []
  }
 ],
 "metadata": {
  "kernelspec": {
   "display_name": "Python (web-backend)",
   "language": "python",
   "name": "web-backend"
  },
  "language_info": {
   "codemirror_mode": {
    "name": "ipython",
    "version": 3
   },
   "file_extension": ".py",
   "mimetype": "text/x-python",
   "name": "python",
   "nbconvert_exporter": "python",
   "pygments_lexer": "ipython3",
   "version": "3.10.13"
  }
 },
 "nbformat": 4,
 "nbformat_minor": 5
}
